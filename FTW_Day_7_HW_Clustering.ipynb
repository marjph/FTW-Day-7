{
  "nbformat": 4,
  "nbformat_minor": 0,
  "metadata": {
    "colab": {
      "name": "FTW Day 7 HW Clustering.ipynb",
      "provenance": [],
      "include_colab_link": true
    },
    "kernelspec": {
      "name": "python3",
      "display_name": "Python 3"
    }
  },
  "cells": [
    {
      "cell_type": "markdown",
      "metadata": {
        "id": "view-in-github",
        "colab_type": "text"
      },
      "source": [
        "<a href=\"https://colab.research.google.com/github/marjph/FTW-Day-7/blob/master/FTW_Day_7_HW_Clustering.ipynb\" target=\"_parent\"><img src=\"https://colab.research.google.com/assets/colab-badge.svg\" alt=\"Open In Colab\"/></a>"
      ]
    },
    {
      "cell_type": "code",
      "metadata": {
        "id": "WkDCIKpwem-l",
        "colab_type": "code",
        "colab": {}
      },
      "source": [
        "import pandas as pd\n",
        "import numpy as np\n",
        "import matplotlib.pyplot as plt\n",
        "import seaborn as sns"
      ],
      "execution_count": 0,
      "outputs": []
    },
    {
      "cell_type": "code",
      "metadata": {
        "id": "HVTFrzUDe5BO",
        "colab_type": "code",
        "colab": {}
      },
      "source": [
        "data = pd.read_csv(\"credit_card_clustering.csv\")"
      ],
      "execution_count": 0,
      "outputs": []
    },
    {
      "cell_type": "code",
      "metadata": {
        "id": "90-qtelFe8OL",
        "colab_type": "code",
        "colab": {
          "base_uri": "https://localhost:8080/",
          "height": 224
        },
        "outputId": "0d4572f9-d376-4f08-e8e0-d6b9dc932178"
      },
      "source": [
        "data.head()"
      ],
      "execution_count": 3,
      "outputs": [
        {
          "output_type": "execute_result",
          "data": {
            "text/html": [
              "<div>\n",
              "<style scoped>\n",
              "    .dataframe tbody tr th:only-of-type {\n",
              "        vertical-align: middle;\n",
              "    }\n",
              "\n",
              "    .dataframe tbody tr th {\n",
              "        vertical-align: top;\n",
              "    }\n",
              "\n",
              "    .dataframe thead th {\n",
              "        text-align: right;\n",
              "    }\n",
              "</style>\n",
              "<table border=\"1\" class=\"dataframe\">\n",
              "  <thead>\n",
              "    <tr style=\"text-align: right;\">\n",
              "      <th></th>\n",
              "      <th>CUST_ID</th>\n",
              "      <th>BALANCE</th>\n",
              "      <th>BALANCE_FREQUENCY</th>\n",
              "      <th>PURCHASES</th>\n",
              "      <th>ONEOFF_PURCHASES</th>\n",
              "      <th>INSTALLMENTS_PURCHASES</th>\n",
              "      <th>CASH_ADVANCE</th>\n",
              "      <th>PURCHASES_FREQUENCY</th>\n",
              "      <th>ONEOFF_PURCHASES_FREQUENCY</th>\n",
              "      <th>PURCHASES_INSTALLMENTS_FREQUENCY</th>\n",
              "      <th>CASH_ADVANCE_FREQUENCY</th>\n",
              "      <th>CASH_ADVANCE_TRX</th>\n",
              "      <th>PURCHASES_TRX</th>\n",
              "      <th>CREDIT_LIMIT</th>\n",
              "      <th>PAYMENTS</th>\n",
              "      <th>MINIMUM_PAYMENTS</th>\n",
              "      <th>PRC_FULL_PAYMENT</th>\n",
              "      <th>TENURE</th>\n",
              "    </tr>\n",
              "  </thead>\n",
              "  <tbody>\n",
              "    <tr>\n",
              "      <th>0</th>\n",
              "      <td>C10001</td>\n",
              "      <td>40.900749</td>\n",
              "      <td>0.818182</td>\n",
              "      <td>95.40</td>\n",
              "      <td>0.00</td>\n",
              "      <td>95.4</td>\n",
              "      <td>0.000000</td>\n",
              "      <td>0.166667</td>\n",
              "      <td>0.000000</td>\n",
              "      <td>0.083333</td>\n",
              "      <td>0.000000</td>\n",
              "      <td>0</td>\n",
              "      <td>2</td>\n",
              "      <td>1000.0</td>\n",
              "      <td>201.802084</td>\n",
              "      <td>139.509787</td>\n",
              "      <td>0.000000</td>\n",
              "      <td>12</td>\n",
              "    </tr>\n",
              "    <tr>\n",
              "      <th>1</th>\n",
              "      <td>C10002</td>\n",
              "      <td>3202.467416</td>\n",
              "      <td>0.909091</td>\n",
              "      <td>0.00</td>\n",
              "      <td>0.00</td>\n",
              "      <td>0.0</td>\n",
              "      <td>6442.945483</td>\n",
              "      <td>0.000000</td>\n",
              "      <td>0.000000</td>\n",
              "      <td>0.000000</td>\n",
              "      <td>0.250000</td>\n",
              "      <td>4</td>\n",
              "      <td>0</td>\n",
              "      <td>7000.0</td>\n",
              "      <td>4103.032597</td>\n",
              "      <td>1072.340217</td>\n",
              "      <td>0.222222</td>\n",
              "      <td>12</td>\n",
              "    </tr>\n",
              "    <tr>\n",
              "      <th>2</th>\n",
              "      <td>C10003</td>\n",
              "      <td>2495.148862</td>\n",
              "      <td>1.000000</td>\n",
              "      <td>773.17</td>\n",
              "      <td>773.17</td>\n",
              "      <td>0.0</td>\n",
              "      <td>0.000000</td>\n",
              "      <td>1.000000</td>\n",
              "      <td>1.000000</td>\n",
              "      <td>0.000000</td>\n",
              "      <td>0.000000</td>\n",
              "      <td>0</td>\n",
              "      <td>12</td>\n",
              "      <td>7500.0</td>\n",
              "      <td>622.066742</td>\n",
              "      <td>627.284787</td>\n",
              "      <td>0.000000</td>\n",
              "      <td>12</td>\n",
              "    </tr>\n",
              "    <tr>\n",
              "      <th>3</th>\n",
              "      <td>C10004</td>\n",
              "      <td>1666.670542</td>\n",
              "      <td>0.636364</td>\n",
              "      <td>1499.00</td>\n",
              "      <td>1499.00</td>\n",
              "      <td>0.0</td>\n",
              "      <td>205.788017</td>\n",
              "      <td>0.083333</td>\n",
              "      <td>0.083333</td>\n",
              "      <td>0.000000</td>\n",
              "      <td>0.083333</td>\n",
              "      <td>1</td>\n",
              "      <td>1</td>\n",
              "      <td>7500.0</td>\n",
              "      <td>0.000000</td>\n",
              "      <td>NaN</td>\n",
              "      <td>0.000000</td>\n",
              "      <td>12</td>\n",
              "    </tr>\n",
              "    <tr>\n",
              "      <th>4</th>\n",
              "      <td>C10005</td>\n",
              "      <td>817.714335</td>\n",
              "      <td>1.000000</td>\n",
              "      <td>16.00</td>\n",
              "      <td>16.00</td>\n",
              "      <td>0.0</td>\n",
              "      <td>0.000000</td>\n",
              "      <td>0.083333</td>\n",
              "      <td>0.083333</td>\n",
              "      <td>0.000000</td>\n",
              "      <td>0.000000</td>\n",
              "      <td>0</td>\n",
              "      <td>1</td>\n",
              "      <td>1200.0</td>\n",
              "      <td>678.334763</td>\n",
              "      <td>244.791237</td>\n",
              "      <td>0.000000</td>\n",
              "      <td>12</td>\n",
              "    </tr>\n",
              "  </tbody>\n",
              "</table>\n",
              "</div>"
            ],
            "text/plain": [
              "  CUST_ID      BALANCE  ...  PRC_FULL_PAYMENT  TENURE\n",
              "0  C10001    40.900749  ...          0.000000      12\n",
              "1  C10002  3202.467416  ...          0.222222      12\n",
              "2  C10003  2495.148862  ...          0.000000      12\n",
              "3  C10004  1666.670542  ...          0.000000      12\n",
              "4  C10005   817.714335  ...          0.000000      12\n",
              "\n",
              "[5 rows x 18 columns]"
            ]
          },
          "metadata": {
            "tags": []
          },
          "execution_count": 3
        }
      ]
    },
    {
      "cell_type": "code",
      "metadata": {
        "id": "gfHiuXmme-OM",
        "colab_type": "code",
        "colab": {
          "base_uri": "https://localhost:8080/",
          "height": 34
        },
        "outputId": "63bc528e-cbed-4fd9-fe25-8e57657e76a6"
      },
      "source": [
        "data.shape"
      ],
      "execution_count": 4,
      "outputs": [
        {
          "output_type": "execute_result",
          "data": {
            "text/plain": [
              "(8950, 18)"
            ]
          },
          "metadata": {
            "tags": []
          },
          "execution_count": 4
        }
      ]
    },
    {
      "cell_type": "code",
      "metadata": {
        "id": "xmJSO5iIfBGT",
        "colab_type": "code",
        "colab": {
          "base_uri": "https://localhost:8080/",
          "height": 34
        },
        "outputId": "bb66a4ac-d5f8-4452-e192-f9a9631900bb"
      },
      "source": [
        "data['CUST_ID'].nunique()"
      ],
      "execution_count": 5,
      "outputs": [
        {
          "output_type": "execute_result",
          "data": {
            "text/plain": [
              "8950"
            ]
          },
          "metadata": {
            "tags": []
          },
          "execution_count": 5
        }
      ]
    },
    {
      "cell_type": "code",
      "metadata": {
        "id": "t5FQWUJsfEzI",
        "colab_type": "code",
        "colab": {
          "base_uri": "https://localhost:8080/",
          "height": 153
        },
        "outputId": "aa3dde88-97e4-4e61-91f4-59aa8681182e"
      },
      "source": [
        "data['TENURE'].value_counts()"
      ],
      "execution_count": 6,
      "outputs": [
        {
          "output_type": "execute_result",
          "data": {
            "text/plain": [
              "12    7584\n",
              "11     365\n",
              "10     236\n",
              "6      204\n",
              "8      196\n",
              "7      190\n",
              "9      175\n",
              "Name: TENURE, dtype: int64"
            ]
          },
          "metadata": {
            "tags": []
          },
          "execution_count": 6
        }
      ]
    },
    {
      "cell_type": "code",
      "metadata": {
        "id": "4uol_O_VfKMD",
        "colab_type": "code",
        "colab": {}
      },
      "source": [
        "data=data.fillna(0)"
      ],
      "execution_count": 0,
      "outputs": []
    },
    {
      "cell_type": "code",
      "metadata": {
        "id": "qvFsd3G5fOg3",
        "colab_type": "code",
        "colab": {
          "base_uri": "https://localhost:8080/",
          "height": 272
        },
        "outputId": "7eab46e3-c5bc-4773-87b2-3a72702ef5b3"
      },
      "source": [
        "data['CREDIT_LIMIT'].describe(np.arange(0.1, 1, 0.1))"
      ],
      "execution_count": 8,
      "outputs": [
        {
          "output_type": "execute_result",
          "data": {
            "text/plain": [
              "count     8950.000000\n",
              "mean      4493.947277\n",
              "std       3638.922543\n",
              "min          0.000000\n",
              "10%       1200.000000\n",
              "20%       1500.000000\n",
              "30%       2000.000000\n",
              "40%       2500.000000\n",
              "50%       3000.000000\n",
              "60%       4200.000000\n",
              "70%       6000.000000\n",
              "80%       7000.000000\n",
              "90%       9500.000000\n",
              "max      30000.000000\n",
              "Name: CREDIT_LIMIT, dtype: float64"
            ]
          },
          "metadata": {
            "tags": []
          },
          "execution_count": 8
        }
      ]
    },
    {
      "cell_type": "code",
      "metadata": {
        "id": "4vPzIQcYfTru",
        "colab_type": "code",
        "colab": {
          "base_uri": "https://localhost:8080/",
          "height": 300
        },
        "outputId": "ef1cf310-e869-4243-c9b0-596117ad6cb3"
      },
      "source": [
        "sns.distplot(data['CREDIT_LIMIT'], kde=False)"
      ],
      "execution_count": 9,
      "outputs": [
        {
          "output_type": "execute_result",
          "data": {
            "text/plain": [
              "<matplotlib.axes._subplots.AxesSubplot at 0x7f0f18b2c7f0>"
            ]
          },
          "metadata": {
            "tags": []
          },
          "execution_count": 9
        },
        {
          "output_type": "display_data",
          "data": {
            "image/png": "[encoded data removed]",
            "text/plain": [
              "<Figure size 432x288 with 1 Axes>"
            ]
          },
          "metadata": {
            "tags": []
          }
        }
      ]
    },
    {
      "cell_type": "code",
      "metadata": {
        "id": "vpdrC31ifWdO",
        "colab_type": "code",
        "colab": {
          "base_uri": "https://localhost:8080/",
          "height": 272
        },
        "outputId": "eefd7585-2f31-4f26-86b2-2acdee3a6d63"
      },
      "source": [
        "data['TENURE'].describe(np.arange(0.1, 1, 0.1))"
      ],
      "execution_count": 10,
      "outputs": [
        {
          "output_type": "execute_result",
          "data": {
            "text/plain": [
              "count    8950.000000\n",
              "mean       11.517318\n",
              "std         1.338331\n",
              "min         6.000000\n",
              "10%        10.000000\n",
              "20%        12.000000\n",
              "30%        12.000000\n",
              "40%        12.000000\n",
              "50%        12.000000\n",
              "60%        12.000000\n",
              "70%        12.000000\n",
              "80%        12.000000\n",
              "90%        12.000000\n",
              "max        12.000000\n",
              "Name: TENURE, dtype: float64"
            ]
          },
          "metadata": {
            "tags": []
          },
          "execution_count": 10
        }
      ]
    },
    {
      "cell_type": "code",
      "metadata": {
        "id": "dQLjrM9ffamL",
        "colab_type": "code",
        "colab": {
          "base_uri": "https://localhost:8080/",
          "height": 296
        },
        "outputId": "b74f5318-2b90-4c70-e5ca-441034d91a02"
      },
      "source": [
        "sns.distplot(data['TENURE'], kde=False)"
      ],
      "execution_count": 11,
      "outputs": [
        {
          "output_type": "execute_result",
          "data": {
            "text/plain": [
              "<matplotlib.axes._subplots.AxesSubplot at 0x7f0f18599fd0>"
            ]
          },
          "metadata": {
            "tags": []
          },
          "execution_count": 11
        },
        {
          "output_type": "display_data",
          "data": {
            "image/png": "[encoded data removed]",
            "text/plain": [
              "<Figure size 432x288 with 1 Axes>"
            ]
          },
          "metadata": {
            "tags": []
          }
        }
      ]
    },
    {
      "cell_type": "code",
      "metadata": {
        "id": "LCTA6tamfc41",
        "colab_type": "code",
        "colab": {
          "base_uri": "https://localhost:8080/",
          "height": 272
        },
        "outputId": "64a5ef28-842c-4b81-b010-4a6c7dbb35e8"
      },
      "source": [
        "data['BALANCE'].describe(np.arange(0.1, 1, 0.1))"
      ],
      "execution_count": 12,
      "outputs": [
        {
          "output_type": "execute_result",
          "data": {
            "text/plain": [
              "count     8950.000000\n",
              "mean      1564.474828\n",
              "std       2081.531879\n",
              "min          0.000000\n",
              "10%         23.575529\n",
              "20%         77.238026\n",
              "30%        207.176552\n",
              "40%        467.021989\n",
              "50%        873.385231\n",
              "60%       1207.815587\n",
              "70%       1698.588855\n",
              "80%       2571.434263\n",
              "90%       4338.563657\n",
              "max      19043.138560\n",
              "Name: BALANCE, dtype: float64"
            ]
          },
          "metadata": {
            "tags": []
          },
          "execution_count": 12
        }
      ]
    },
    {
      "cell_type": "code",
      "metadata": {
        "id": "XQaSwa8Jfh-W",
        "colab_type": "code",
        "colab": {
          "base_uri": "https://localhost:8080/",
          "height": 296
        },
        "outputId": "399c57a4-00c4-4d3c-f353-41333771b36a"
      },
      "source": [
        "sns.distplot(data['BALANCE'], kde=False)"
      ],
      "execution_count": 13,
      "outputs": [
        {
          "output_type": "execute_result",
          "data": {
            "text/plain": [
              "<matplotlib.axes._subplots.AxesSubplot at 0x7f0f184f7240>"
            ]
          },
          "metadata": {
            "tags": []
          },
          "execution_count": 13
        },
        {
          "output_type": "display_data",
          "data": {
            "image/png": "[encoded data removed]",
            "text/plain": [
              "<Figure size 432x288 with 1 Axes>"
            ]
          },
          "metadata": {
            "tags": []
          }
        }
      ]
    },
    {
      "cell_type": "code",
      "metadata": {
        "id": "jAdr4l38flAL",
        "colab_type": "code",
        "colab": {
          "base_uri": "https://localhost:8080/",
          "height": 272
        },
        "outputId": "51584c2a-c85c-46b2-cb31-411f42c38764"
      },
      "source": [
        "data['PURCHASES'].describe(np.arange(0.1, 1, 0.1))"
      ],
      "execution_count": 14,
      "outputs": [
        {
          "output_type": "execute_result",
          "data": {
            "text/plain": [
              "count     8950.000000\n",
              "mean      1003.204834\n",
              "std       2136.634782\n",
              "min          0.000000\n",
              "10%          0.000000\n",
              "20%          0.000000\n",
              "30%         89.285000\n",
              "40%        212.850000\n",
              "50%        361.280000\n",
              "60%        557.546000\n",
              "70%        894.316000\n",
              "80%       1422.438000\n",
              "90%       2542.624000\n",
              "max      49039.570000\n",
              "Name: PURCHASES, dtype: float64"
            ]
          },
          "metadata": {
            "tags": []
          },
          "execution_count": 14
        }
      ]
    },
    {
      "cell_type": "code",
      "metadata": {
        "id": "PAquyMEtfsIy",
        "colab_type": "code",
        "colab": {
          "base_uri": "https://localhost:8080/",
          "height": 296
        },
        "outputId": "b5c7ae78-7fa0-4459-a842-a55c77b79761"
      },
      "source": [
        "sns.distplot(data['PURCHASES'], kde=False)"
      ],
      "execution_count": 15,
      "outputs": [
        {
          "output_type": "execute_result",
          "data": {
            "text/plain": [
              "<matplotlib.axes._subplots.AxesSubplot at 0x7f0f1839d6a0>"
            ]
          },
          "metadata": {
            "tags": []
          },
          "execution_count": 15
        },
        {
          "output_type": "display_data",
          "data": {
            "image/png": "[encoded data removed]",
            "text/plain": [
              "<Figure size 432x288 with 1 Axes>"
            ]
          },
          "metadata": {
            "tags": []
          }
        }
      ]
    },
    {
      "cell_type": "code",
      "metadata": {
        "id": "0pH_K22jfu_Q",
        "colab_type": "code",
        "colab": {}
      },
      "source": [
        "from sklearn.cluster import KMeans"
      ],
      "execution_count": 0,
      "outputs": []
    },
    {
      "cell_type": "code",
      "metadata": {
        "id": "Sa9oWlFXf0mo",
        "colab_type": "code",
        "colab": {}
      },
      "source": [
        "features = ['CREDIT_LIMIT','BALANCE','PURCHASES']\n",
        "X = data[features]"
      ],
      "execution_count": 0,
      "outputs": []
    },
    {
      "cell_type": "code",
      "metadata": {
        "id": "fYTvBespgBUq",
        "colab_type": "code",
        "colab": {
          "base_uri": "https://localhost:8080/",
          "height": 204
        },
        "outputId": "b94377c1-edac-4981-806d-90773fa66089"
      },
      "source": [
        "X.head()"
      ],
      "execution_count": 18,
      "outputs": [
        {
          "output_type": "execute_result",
          "data": {
            "text/html": [
              "<div>\n",
              "<style scoped>\n",
              "    .dataframe tbody tr th:only-of-type {\n",
              "        vertical-align: middle;\n",
              "    }\n",
              "\n",
              "    .dataframe tbody tr th {\n",
              "        vertical-align: top;\n",
              "    }\n",
              "\n",
              "    .dataframe thead th {\n",
              "        text-align: right;\n",
              "    }\n",
              "</style>\n",
              "<table border=\"1\" class=\"dataframe\">\n",
              "  <thead>\n",
              "    <tr style=\"text-align: right;\">\n",
              "      <th></th>\n",
              "      <th>CREDIT_LIMIT</th>\n",
              "      <th>BALANCE</th>\n",
              "      <th>PURCHASES</th>\n",
              "    </tr>\n",
              "  </thead>\n",
              "  <tbody>\n",
              "    <tr>\n",
              "      <th>0</th>\n",
              "      <td>1000.0</td>\n",
              "      <td>40.900749</td>\n",
              "      <td>95.40</td>\n",
              "    </tr>\n",
              "    <tr>\n",
              "      <th>1</th>\n",
              "      <td>7000.0</td>\n",
              "      <td>3202.467416</td>\n",
              "      <td>0.00</td>\n",
              "    </tr>\n",
              "    <tr>\n",
              "      <th>2</th>\n",
              "      <td>7500.0</td>\n",
              "      <td>2495.148862</td>\n",
              "      <td>773.17</td>\n",
              "    </tr>\n",
              "    <tr>\n",
              "      <th>3</th>\n",
              "      <td>7500.0</td>\n",
              "      <td>1666.670542</td>\n",
              "      <td>1499.00</td>\n",
              "    </tr>\n",
              "    <tr>\n",
              "      <th>4</th>\n",
              "      <td>1200.0</td>\n",
              "      <td>817.714335</td>\n",
              "      <td>16.00</td>\n",
              "    </tr>\n",
              "  </tbody>\n",
              "</table>\n",
              "</div>"
            ],
            "text/plain": [
              "   CREDIT_LIMIT      BALANCE  PURCHASES\n",
              "0        1000.0    40.900749      95.40\n",
              "1        7000.0  3202.467416       0.00\n",
              "2        7500.0  2495.148862     773.17\n",
              "3        7500.0  1666.670542    1499.00\n",
              "4        1200.0   817.714335      16.00"
            ]
          },
          "metadata": {
            "tags": []
          },
          "execution_count": 18
        }
      ]
    },
    {
      "cell_type": "code",
      "metadata": {
        "id": "3o1izoRhgDsM",
        "colab_type": "code",
        "colab": {}
      },
      "source": [
        "squared_errors = []\n",
        "\n",
        "for num_iter in range(1,21):\n",
        "  km = KMeans(n_clusters=num_iter, random_state=42)\n",
        "  km.fit(X)\n",
        "  squared_errors.append(km.inertia_)\n"
      ],
      "execution_count": 0,
      "outputs": []
    },
    {
      "cell_type": "code",
      "metadata": {
        "id": "xMFMvt_8gLRw",
        "colab_type": "code",
        "colab": {
          "base_uri": "https://localhost:8080/",
          "height": 293
        },
        "outputId": "4b63888f-0fbc-4833-8a80-39d8f6767c09"
      },
      "source": [
        "plt.plot(squared_errors, marker = 'o')"
      ],
      "execution_count": 20,
      "outputs": [
        {
          "output_type": "execute_result",
          "data": {
            "text/plain": [
              "[<matplotlib.lines.Line2D at 0x7f0f0f5aa4a8>]"
            ]
          },
          "metadata": {
            "tags": []
          },
          "execution_count": 20
        },
        {
          "output_type": "display_data",
          "data": {
            "image/png": "[encoded data removed]",
            "text/plain": [
              "<Figure size 432x288 with 1 Axes>"
            ]
          },
          "metadata": {
            "tags": []
          }
        }
      ]
    },
    {
      "cell_type": "code",
      "metadata": {
        "id": "Ezicr9WTgRiN",
        "colab_type": "code",
        "colab": {}
      },
      "source": [
        "km = KMeans(n_clusters=5, random_state=42)\n",
        "\n",
        "km.fit(X)\n",
        "\n",
        "labels = km.predict(X)\n",
        "\n",
        "new_data = X.copy()\n",
        "\n",
        "new_data['labels'] = labels"
      ],
      "execution_count": 0,
      "outputs": []
    },
    {
      "cell_type": "code",
      "metadata": {
        "id": "uRoS9sSSghka",
        "colab_type": "code",
        "colab": {
          "base_uri": "https://localhost:8080/",
          "height": 204
        },
        "outputId": "36418b38-8131-4d39-8617-d87d9fd533f4"
      },
      "source": [
        "new_data.head()"
      ],
      "execution_count": 24,
      "outputs": [
        {
          "output_type": "execute_result",
          "data": {
            "text/html": [
              "<div>\n",
              "<style scoped>\n",
              "    .dataframe tbody tr th:only-of-type {\n",
              "        vertical-align: middle;\n",
              "    }\n",
              "\n",
              "    .dataframe tbody tr th {\n",
              "        vertical-align: top;\n",
              "    }\n",
              "\n",
              "    .dataframe thead th {\n",
              "        text-align: right;\n",
              "    }\n",
              "</style>\n",
              "<table border=\"1\" class=\"dataframe\">\n",
              "  <thead>\n",
              "    <tr style=\"text-align: right;\">\n",
              "      <th></th>\n",
              "      <th>CREDIT_LIMIT</th>\n",
              "      <th>BALANCE</th>\n",
              "      <th>PURCHASES</th>\n",
              "      <th>labels</th>\n",
              "    </tr>\n",
              "  </thead>\n",
              "  <tbody>\n",
              "    <tr>\n",
              "      <th>0</th>\n",
              "      <td>1000.0</td>\n",
              "      <td>40.900749</td>\n",
              "      <td>95.40</td>\n",
              "      <td>1</td>\n",
              "    </tr>\n",
              "    <tr>\n",
              "      <th>1</th>\n",
              "      <td>7000.0</td>\n",
              "      <td>3202.467416</td>\n",
              "      <td>0.00</td>\n",
              "      <td>3</td>\n",
              "    </tr>\n",
              "    <tr>\n",
              "      <th>2</th>\n",
              "      <td>7500.0</td>\n",
              "      <td>2495.148862</td>\n",
              "      <td>773.17</td>\n",
              "      <td>3</td>\n",
              "    </tr>\n",
              "    <tr>\n",
              "      <th>3</th>\n",
              "      <td>7500.0</td>\n",
              "      <td>1666.670542</td>\n",
              "      <td>1499.00</td>\n",
              "      <td>3</td>\n",
              "    </tr>\n",
              "    <tr>\n",
              "      <th>4</th>\n",
              "      <td>1200.0</td>\n",
              "      <td>817.714335</td>\n",
              "      <td>16.00</td>\n",
              "      <td>1</td>\n",
              "    </tr>\n",
              "  </tbody>\n",
              "</table>\n",
              "</div>"
            ],
            "text/plain": [
              "   CREDIT_LIMIT      BALANCE  PURCHASES  labels\n",
              "0        1000.0    40.900749      95.40       1\n",
              "1        7000.0  3202.467416       0.00       3\n",
              "2        7500.0  2495.148862     773.17       3\n",
              "3        7500.0  1666.670542    1499.00       3\n",
              "4        1200.0   817.714335      16.00       1"
            ]
          },
          "metadata": {
            "tags": []
          },
          "execution_count": 24
        }
      ]
    },
    {
      "cell_type": "code",
      "metadata": {
        "id": "tmrGnTu8gk99",
        "colab_type": "code",
        "colab": {
          "base_uri": "https://localhost:8080/",
          "height": 601
        },
        "outputId": "adb37365-ab0c-4718-d615-d4e038596c08"
      },
      "source": [
        "new_data.plot.scatter(x='CREDIT_LIMIT', \n",
        "                      y='PURCHASES', \n",
        "                      c='labels', \n",
        "                      cmap='viridis',\n",
        "                      figsize=(20, 10))\n",
        "\n",
        "centers = km.cluster_centers_\n",
        "plt.scatter(centers[:,0],centers[:,1], s=200, color='red')"
      ],
      "execution_count": 26,
      "outputs": [
        {
          "output_type": "execute_result",
          "data": {
            "text/plain": [
              "<matplotlib.collections.PathCollection at 0x7f0f18392978>"
            ]
          },
          "metadata": {
            "tags": []
          },
          "execution_count": 26
        },
        {
          "output_type": "display_data",
          "data": {
            "image/png": "[encoded data removed]",
            "text/plain": [
              "<Figure size 1440x720 with 2 Axes>"
            ]
          },
          "metadata": {
            "tags": []
          }
        }
      ]
    },
    {
      "cell_type": "code",
      "metadata": {
        "id": "Z2FGmjV6gxlB",
        "colab_type": "code",
        "colab": {
          "base_uri": "https://localhost:8080/",
          "height": 297
        },
        "outputId": "6625ee9b-af97-4d26-b5c2-0697a4846d9d"
      },
      "source": [
        "cluster_0 = new_data[new_data['labels']==0]\n",
        "cluster_0.describe()"
      ],
      "execution_count": 27,
      "outputs": [
        {
          "output_type": "execute_result",
          "data": {
            "text/html": [
              "<div>\n",
              "<style scoped>\n",
              "    .dataframe tbody tr th:only-of-type {\n",
              "        vertical-align: middle;\n",
              "    }\n",
              "\n",
              "    .dataframe tbody tr th {\n",
              "        vertical-align: top;\n",
              "    }\n",
              "\n",
              "    .dataframe thead th {\n",
              "        text-align: right;\n",
              "    }\n",
              "</style>\n",
              "<table border=\"1\" class=\"dataframe\">\n",
              "  <thead>\n",
              "    <tr style=\"text-align: right;\">\n",
              "      <th></th>\n",
              "      <th>CREDIT_LIMIT</th>\n",
              "      <th>BALANCE</th>\n",
              "      <th>PURCHASES</th>\n",
              "      <th>labels</th>\n",
              "    </tr>\n",
              "  </thead>\n",
              "  <tbody>\n",
              "    <tr>\n",
              "      <th>count</th>\n",
              "      <td>581.000000</td>\n",
              "      <td>581.000000</td>\n",
              "      <td>581.000000</td>\n",
              "      <td>581.0</td>\n",
              "    </tr>\n",
              "    <tr>\n",
              "      <th>mean</th>\n",
              "      <td>11670.654045</td>\n",
              "      <td>1156.244344</td>\n",
              "      <td>1814.171377</td>\n",
              "      <td>0.0</td>\n",
              "    </tr>\n",
              "    <tr>\n",
              "      <th>std</th>\n",
              "      <td>2856.763647</td>\n",
              "      <td>1331.270592</td>\n",
              "      <td>2017.613692</td>\n",
              "      <td>0.0</td>\n",
              "    </tr>\n",
              "    <tr>\n",
              "      <th>min</th>\n",
              "      <td>8500.000000</td>\n",
              "      <td>0.000000</td>\n",
              "      <td>0.000000</td>\n",
              "      <td>0.0</td>\n",
              "    </tr>\n",
              "    <tr>\n",
              "      <th>25%</th>\n",
              "      <td>10000.000000</td>\n",
              "      <td>123.089579</td>\n",
              "      <td>319.920000</td>\n",
              "      <td>0.0</td>\n",
              "    </tr>\n",
              "    <tr>\n",
              "      <th>50%</th>\n",
              "      <td>10500.000000</td>\n",
              "      <td>447.941813</td>\n",
              "      <td>1109.910000</td>\n",
              "      <td>0.0</td>\n",
              "    </tr>\n",
              "    <tr>\n",
              "      <th>75%</th>\n",
              "      <td>13000.000000</td>\n",
              "      <td>2206.463745</td>\n",
              "      <td>2673.730000</td>\n",
              "      <td>0.0</td>\n",
              "    </tr>\n",
              "    <tr>\n",
              "      <th>max</th>\n",
              "      <td>30000.000000</td>\n",
              "      <td>4766.360515</td>\n",
              "      <td>9249.730000</td>\n",
              "      <td>0.0</td>\n",
              "    </tr>\n",
              "  </tbody>\n",
              "</table>\n",
              "</div>"
            ],
            "text/plain": [
              "       CREDIT_LIMIT      BALANCE    PURCHASES  labels\n",
              "count    581.000000   581.000000   581.000000   581.0\n",
              "mean   11670.654045  1156.244344  1814.171377     0.0\n",
              "std     2856.763647  1331.270592  2017.613692     0.0\n",
              "min     8500.000000     0.000000     0.000000     0.0\n",
              "25%    10000.000000   123.089579   319.920000     0.0\n",
              "50%    10500.000000   447.941813  1109.910000     0.0\n",
              "75%    13000.000000  2206.463745  2673.730000     0.0\n",
              "max    30000.000000  4766.360515  9249.730000     0.0"
            ]
          },
          "metadata": {
            "tags": []
          },
          "execution_count": 27
        }
      ]
    },
    {
      "cell_type": "markdown",
      "metadata": {
        "id": "HyTeCA6Rg_eR",
        "colab_type": "text"
      },
      "source": [
        "Cluster 0: Young Professionals"
      ]
    },
    {
      "cell_type": "markdown",
      "metadata": {
        "id": "pWVxt_RDhanV",
        "colab_type": "text"
      },
      "source": [
        "High credit limit, low balance, average purchases"
      ]
    },
    {
      "cell_type": "code",
      "metadata": {
        "id": "A89juuCwhgPK",
        "colab_type": "code",
        "colab": {
          "base_uri": "https://localhost:8080/",
          "height": 297
        },
        "outputId": "cedee212-1394-4c54-fbb0-396fbef7d131"
      },
      "source": [
        "cluster_1 = new_data[new_data['labels']==1]\n",
        "cluster_1.describe()"
      ],
      "execution_count": 28,
      "outputs": [
        {
          "output_type": "execute_result",
          "data": {
            "text/html": [
              "<div>\n",
              "<style scoped>\n",
              "    .dataframe tbody tr th:only-of-type {\n",
              "        vertical-align: middle;\n",
              "    }\n",
              "\n",
              "    .dataframe tbody tr th {\n",
              "        vertical-align: top;\n",
              "    }\n",
              "\n",
              "    .dataframe thead th {\n",
              "        text-align: right;\n",
              "    }\n",
              "</style>\n",
              "<table border=\"1\" class=\"dataframe\">\n",
              "  <thead>\n",
              "    <tr style=\"text-align: right;\">\n",
              "      <th></th>\n",
              "      <th>CREDIT_LIMIT</th>\n",
              "      <th>BALANCE</th>\n",
              "      <th>PURCHASES</th>\n",
              "      <th>labels</th>\n",
              "    </tr>\n",
              "  </thead>\n",
              "  <tbody>\n",
              "    <tr>\n",
              "      <th>count</th>\n",
              "      <td>5253.000000</td>\n",
              "      <td>5253.000000</td>\n",
              "      <td>5253.000000</td>\n",
              "      <td>5253.0</td>\n",
              "    </tr>\n",
              "    <tr>\n",
              "      <th>mean</th>\n",
              "      <td>2093.801108</td>\n",
              "      <td>775.483684</td>\n",
              "      <td>515.199056</td>\n",
              "      <td>1.0</td>\n",
              "    </tr>\n",
              "    <tr>\n",
              "      <th>std</th>\n",
              "      <td>974.780905</td>\n",
              "      <td>780.523802</td>\n",
              "      <td>755.207898</td>\n",
              "      <td>0.0</td>\n",
              "    </tr>\n",
              "    <tr>\n",
              "      <th>min</th>\n",
              "      <td>0.000000</td>\n",
              "      <td>0.000000</td>\n",
              "      <td>0.000000</td>\n",
              "      <td>1.0</td>\n",
              "    </tr>\n",
              "    <tr>\n",
              "      <th>25%</th>\n",
              "      <td>1200.000000</td>\n",
              "      <td>72.033516</td>\n",
              "      <td>2.000000</td>\n",
              "      <td>1.0</td>\n",
              "    </tr>\n",
              "    <tr>\n",
              "      <th>50%</th>\n",
              "      <td>2000.000000</td>\n",
              "      <td>542.051302</td>\n",
              "      <td>247.450000</td>\n",
              "      <td>1.0</td>\n",
              "    </tr>\n",
              "    <tr>\n",
              "      <th>75%</th>\n",
              "      <td>3000.000000</td>\n",
              "      <td>1250.394614</td>\n",
              "      <td>662.400000</td>\n",
              "      <td>1.0</td>\n",
              "    </tr>\n",
              "    <tr>\n",
              "      <th>max</th>\n",
              "      <td>4500.000000</td>\n",
              "      <td>3572.844689</td>\n",
              "      <td>8591.310000</td>\n",
              "      <td>1.0</td>\n",
              "    </tr>\n",
              "  </tbody>\n",
              "</table>\n",
              "</div>"
            ],
            "text/plain": [
              "       CREDIT_LIMIT      BALANCE    PURCHASES  labels\n",
              "count   5253.000000  5253.000000  5253.000000  5253.0\n",
              "mean    2093.801108   775.483684   515.199056     1.0\n",
              "std      974.780905   780.523802   755.207898     0.0\n",
              "min        0.000000     0.000000     0.000000     1.0\n",
              "25%     1200.000000    72.033516     2.000000     1.0\n",
              "50%     2000.000000   542.051302   247.450000     1.0\n",
              "75%     3000.000000  1250.394614   662.400000     1.0\n",
              "max     4500.000000  3572.844689  8591.310000     1.0"
            ]
          },
          "metadata": {
            "tags": []
          },
          "execution_count": 28
        }
      ]
    },
    {
      "cell_type": "markdown",
      "metadata": {
        "id": "HcD0nKmPhw9-",
        "colab_type": "text"
      },
      "source": [
        "Cluster 1: Budget Conscious"
      ]
    },
    {
      "cell_type": "markdown",
      "metadata": {
        "id": "p_md5TTvh9qm",
        "colab_type": "text"
      },
      "source": [
        "low credit limit, low balance, low purchases"
      ]
    },
    {
      "cell_type": "code",
      "metadata": {
        "id": "UNJyPPMrg5ql",
        "colab_type": "code",
        "colab": {
          "base_uri": "https://localhost:8080/",
          "height": 297
        },
        "outputId": "3039be99-994d-4218-c008-a8ca66bff8a5"
      },
      "source": [
        "# Cluster 2\n",
        "cluster_2 = new_data[new_data['labels']==2]\n",
        "cluster_2.describe()"
      ],
      "execution_count": 29,
      "outputs": [
        {
          "output_type": "execute_result",
          "data": {
            "text/html": [
              "<div>\n",
              "<style scoped>\n",
              "    .dataframe tbody tr th:only-of-type {\n",
              "        vertical-align: middle;\n",
              "    }\n",
              "\n",
              "    .dataframe tbody tr th {\n",
              "        vertical-align: top;\n",
              "    }\n",
              "\n",
              "    .dataframe thead th {\n",
              "        text-align: right;\n",
              "    }\n",
              "</style>\n",
              "<table border=\"1\" class=\"dataframe\">\n",
              "  <thead>\n",
              "    <tr style=\"text-align: right;\">\n",
              "      <th></th>\n",
              "      <th>CREDIT_LIMIT</th>\n",
              "      <th>BALANCE</th>\n",
              "      <th>PURCHASES</th>\n",
              "      <th>labels</th>\n",
              "    </tr>\n",
              "  </thead>\n",
              "  <tbody>\n",
              "    <tr>\n",
              "      <th>count</th>\n",
              "      <td>89.000000</td>\n",
              "      <td>89.000000</td>\n",
              "      <td>89.000000</td>\n",
              "      <td>89.0</td>\n",
              "    </tr>\n",
              "    <tr>\n",
              "      <th>mean</th>\n",
              "      <td>12615.168539</td>\n",
              "      <td>4645.234124</td>\n",
              "      <td>15684.689663</td>\n",
              "      <td>2.0</td>\n",
              "    </tr>\n",
              "    <tr>\n",
              "      <th>std</th>\n",
              "      <td>5151.800240</td>\n",
              "      <td>3809.247335</td>\n",
              "      <td>8549.862473</td>\n",
              "      <td>0.0</td>\n",
              "    </tr>\n",
              "    <tr>\n",
              "      <th>min</th>\n",
              "      <td>2800.000000</td>\n",
              "      <td>348.342172</td>\n",
              "      <td>8403.170000</td>\n",
              "      <td>2.0</td>\n",
              "    </tr>\n",
              "    <tr>\n",
              "      <th>25%</th>\n",
              "      <td>9000.000000</td>\n",
              "      <td>1917.441126</td>\n",
              "      <td>10221.350000</td>\n",
              "      <td>2.0</td>\n",
              "    </tr>\n",
              "    <tr>\n",
              "      <th>50%</th>\n",
              "      <td>12000.000000</td>\n",
              "      <td>3123.339488</td>\n",
              "      <td>11681.640000</td>\n",
              "      <td>2.0</td>\n",
              "    </tr>\n",
              "    <tr>\n",
              "      <th>75%</th>\n",
              "      <td>16500.000000</td>\n",
              "      <td>6372.182817</td>\n",
              "      <td>17945.000000</td>\n",
              "      <td>2.0</td>\n",
              "    </tr>\n",
              "    <tr>\n",
              "      <th>max</th>\n",
              "      <td>30000.000000</td>\n",
              "      <td>19043.138560</td>\n",
              "      <td>49039.570000</td>\n",
              "      <td>2.0</td>\n",
              "    </tr>\n",
              "  </tbody>\n",
              "</table>\n",
              "</div>"
            ],
            "text/plain": [
              "       CREDIT_LIMIT       BALANCE     PURCHASES  labels\n",
              "count     89.000000     89.000000     89.000000    89.0\n",
              "mean   12615.168539   4645.234124  15684.689663     2.0\n",
              "std     5151.800240   3809.247335   8549.862473     0.0\n",
              "min     2800.000000    348.342172   8403.170000     2.0\n",
              "25%     9000.000000   1917.441126  10221.350000     2.0\n",
              "50%    12000.000000   3123.339488  11681.640000     2.0\n",
              "75%    16500.000000   6372.182817  17945.000000     2.0\n",
              "max    30000.000000  19043.138560  49039.570000     2.0"
            ]
          },
          "metadata": {
            "tags": []
          },
          "execution_count": 29
        }
      ]
    },
    {
      "cell_type": "markdown",
      "metadata": {
        "id": "0YZcvNOsiWKs",
        "colab_type": "text"
      },
      "source": [
        "Cluster 2: Elite"
      ]
    },
    {
      "cell_type": "markdown",
      "metadata": {
        "id": "mwwua8Feijhm",
        "colab_type": "text"
      },
      "source": [
        "High credit limit, low balance, High purchases"
      ]
    },
    {
      "cell_type": "code",
      "metadata": {
        "id": "5LR0WpaEiSFp",
        "colab_type": "code",
        "colab": {
          "base_uri": "https://localhost:8080/",
          "height": 297
        },
        "outputId": "354540b9-6f2e-4940-f4f1-d21d09977569"
      },
      "source": [
        "# Cluster 3\n",
        "cluster_3 = new_data[new_data['labels']==3]\n",
        "cluster_3.describe()"
      ],
      "execution_count": 30,
      "outputs": [
        {
          "output_type": "execute_result",
          "data": {
            "text/html": [
              "<div>\n",
              "<style scoped>\n",
              "    .dataframe tbody tr th:only-of-type {\n",
              "        vertical-align: middle;\n",
              "    }\n",
              "\n",
              "    .dataframe tbody tr th {\n",
              "        vertical-align: top;\n",
              "    }\n",
              "\n",
              "    .dataframe thead th {\n",
              "        text-align: right;\n",
              "    }\n",
              "</style>\n",
              "<table border=\"1\" class=\"dataframe\">\n",
              "  <thead>\n",
              "    <tr style=\"text-align: right;\">\n",
              "      <th></th>\n",
              "      <th>CREDIT_LIMIT</th>\n",
              "      <th>BALANCE</th>\n",
              "      <th>PURCHASES</th>\n",
              "      <th>labels</th>\n",
              "    </tr>\n",
              "  </thead>\n",
              "  <tbody>\n",
              "    <tr>\n",
              "      <th>count</th>\n",
              "      <td>2464.000000</td>\n",
              "      <td>2464.000000</td>\n",
              "      <td>2464.000000</td>\n",
              "      <td>2464.0</td>\n",
              "    </tr>\n",
              "    <tr>\n",
              "      <th>mean</th>\n",
              "      <td>6101.984947</td>\n",
              "      <td>1921.575173</td>\n",
              "      <td>1247.773502</td>\n",
              "      <td>3.0</td>\n",
              "    </tr>\n",
              "    <tr>\n",
              "      <th>std</th>\n",
              "      <td>1293.783505</td>\n",
              "      <td>1734.139542</td>\n",
              "      <td>1573.423799</td>\n",
              "      <td>0.0</td>\n",
              "    </tr>\n",
              "    <tr>\n",
              "      <th>min</th>\n",
              "      <td>3000.000000</td>\n",
              "      <td>0.000000</td>\n",
              "      <td>0.000000</td>\n",
              "      <td>3.0</td>\n",
              "    </tr>\n",
              "    <tr>\n",
              "      <th>25%</th>\n",
              "      <td>5000.000000</td>\n",
              "      <td>252.546989</td>\n",
              "      <td>93.240000</td>\n",
              "      <td>3.0</td>\n",
              "    </tr>\n",
              "    <tr>\n",
              "      <th>50%</th>\n",
              "      <td>6000.000000</td>\n",
              "      <td>1563.547288</td>\n",
              "      <td>673.700000</td>\n",
              "      <td>3.0</td>\n",
              "    </tr>\n",
              "    <tr>\n",
              "      <th>75%</th>\n",
              "      <td>7000.000000</td>\n",
              "      <td>3258.988388</td>\n",
              "      <td>1815.185000</td>\n",
              "      <td>3.0</td>\n",
              "    </tr>\n",
              "    <tr>\n",
              "      <th>max</th>\n",
              "      <td>9000.000000</td>\n",
              "      <td>6832.111113</td>\n",
              "      <td>9751.900000</td>\n",
              "      <td>3.0</td>\n",
              "    </tr>\n",
              "  </tbody>\n",
              "</table>\n",
              "</div>"
            ],
            "text/plain": [
              "       CREDIT_LIMIT      BALANCE    PURCHASES  labels\n",
              "count   2464.000000  2464.000000  2464.000000  2464.0\n",
              "mean    6101.984947  1921.575173  1247.773502     3.0\n",
              "std     1293.783505  1734.139542  1573.423799     0.0\n",
              "min     3000.000000     0.000000     0.000000     3.0\n",
              "25%     5000.000000   252.546989    93.240000     3.0\n",
              "50%     6000.000000  1563.547288   673.700000     3.0\n",
              "75%     7000.000000  3258.988388  1815.185000     3.0\n",
              "max     9000.000000  6832.111113  9751.900000     3.0"
            ]
          },
          "metadata": {
            "tags": []
          },
          "execution_count": 30
        }
      ]
    },
    {
      "cell_type": "markdown",
      "metadata": {
        "id": "_QB8NXHvivq-",
        "colab_type": "text"
      },
      "source": [
        "Cluster 3: Average Joes"
      ]
    },
    {
      "cell_type": "markdown",
      "metadata": {
        "id": "oNu7gLPki37h",
        "colab_type": "text"
      },
      "source": [
        "Average credit limit, Average balance, Average purchases"
      ]
    },
    {
      "cell_type": "code",
      "metadata": {
        "id": "CSWdk5rkir9O",
        "colab_type": "code",
        "colab": {
          "base_uri": "https://localhost:8080/",
          "height": 297
        },
        "outputId": "e75c87b4-3b82-4d84-c536-f02c7f5ed48c"
      },
      "source": [
        "# Cluster 4\n",
        "cluster_4 = new_data[new_data['labels']==4]\n",
        "cluster_4.describe()"
      ],
      "execution_count": 31,
      "outputs": [
        {
          "output_type": "execute_result",
          "data": {
            "text/html": [
              "<div>\n",
              "<style scoped>\n",
              "    .dataframe tbody tr th:only-of-type {\n",
              "        vertical-align: middle;\n",
              "    }\n",
              "\n",
              "    .dataframe tbody tr th {\n",
              "        vertical-align: top;\n",
              "    }\n",
              "\n",
              "    .dataframe thead th {\n",
              "        text-align: right;\n",
              "    }\n",
              "</style>\n",
              "<table border=\"1\" class=\"dataframe\">\n",
              "  <thead>\n",
              "    <tr style=\"text-align: right;\">\n",
              "      <th></th>\n",
              "      <th>CREDIT_LIMIT</th>\n",
              "      <th>BALANCE</th>\n",
              "      <th>PURCHASES</th>\n",
              "      <th>labels</th>\n",
              "    </tr>\n",
              "  </thead>\n",
              "  <tbody>\n",
              "    <tr>\n",
              "      <th>count</th>\n",
              "      <td>563.000000</td>\n",
              "      <td>563.000000</td>\n",
              "      <td>563.000000</td>\n",
              "      <td>563.0</td>\n",
              "    </tr>\n",
              "    <tr>\n",
              "      <th>mean</th>\n",
              "      <td>11160.568384</td>\n",
              "      <td>7297.458065</td>\n",
              "      <td>1328.344156</td>\n",
              "      <td>4.0</td>\n",
              "    </tr>\n",
              "    <tr>\n",
              "      <th>std</th>\n",
              "      <td>2943.603844</td>\n",
              "      <td>2245.113076</td>\n",
              "      <td>1859.675652</td>\n",
              "      <td>0.0</td>\n",
              "    </tr>\n",
              "    <tr>\n",
              "      <th>min</th>\n",
              "      <td>7000.000000</td>\n",
              "      <td>4007.610043</td>\n",
              "      <td>0.000000</td>\n",
              "      <td>4.0</td>\n",
              "    </tr>\n",
              "    <tr>\n",
              "      <th>25%</th>\n",
              "      <td>9000.000000</td>\n",
              "      <td>5724.426508</td>\n",
              "      <td>0.000000</td>\n",
              "      <td>4.0</td>\n",
              "    </tr>\n",
              "    <tr>\n",
              "      <th>50%</th>\n",
              "      <td>10500.000000</td>\n",
              "      <td>6886.213231</td>\n",
              "      <td>410.240000</td>\n",
              "      <td>4.0</td>\n",
              "    </tr>\n",
              "    <tr>\n",
              "      <th>75%</th>\n",
              "      <td>12500.000000</td>\n",
              "      <td>8189.939207</td>\n",
              "      <td>1868.545000</td>\n",
              "      <td>4.0</td>\n",
              "    </tr>\n",
              "    <tr>\n",
              "      <th>max</th>\n",
              "      <td>22000.000000</td>\n",
              "      <td>18495.558550</td>\n",
              "      <td>8533.540000</td>\n",
              "      <td>4.0</td>\n",
              "    </tr>\n",
              "  </tbody>\n",
              "</table>\n",
              "</div>"
            ],
            "text/plain": [
              "       CREDIT_LIMIT       BALANCE    PURCHASES  labels\n",
              "count    563.000000    563.000000   563.000000   563.0\n",
              "mean   11160.568384   7297.458065  1328.344156     4.0\n",
              "std     2943.603844   2245.113076  1859.675652     0.0\n",
              "min     7000.000000   4007.610043     0.000000     4.0\n",
              "25%     9000.000000   5724.426508     0.000000     4.0\n",
              "50%    10500.000000   6886.213231   410.240000     4.0\n",
              "75%    12500.000000   8189.939207  1868.545000     4.0\n",
              "max    22000.000000  18495.558550  8533.540000     4.0"
            ]
          },
          "metadata": {
            "tags": []
          },
          "execution_count": 31
        }
      ]
    },
    {
      "cell_type": "markdown",
      "metadata": {
        "id": "efk865dUjH4F",
        "colab_type": "text"
      },
      "source": [
        "Cluster 4: One day Millionaire"
      ]
    },
    {
      "cell_type": "markdown",
      "metadata": {
        "id": "o_O2Ya6gjOSA",
        "colab_type": "text"
      },
      "source": [
        "High credit limit, High balance, low purchases"
      ]
    },
    {
      "cell_type": "code",
      "metadata": {
        "id": "zEhOW5cNi-Vl",
        "colab_type": "code",
        "colab": {}
      },
      "source": [
        ""
      ],
      "execution_count": 0,
      "outputs": []
    }
  ]
}